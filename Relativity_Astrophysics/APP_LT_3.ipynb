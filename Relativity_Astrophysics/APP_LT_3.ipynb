{
 "cells": [
  {
   "cell_type": "markdown",
   "metadata": {},
   "source": [
    "## Relativistic Ballet\n",
    "* Explore how relative motion alters measurements of the spatial dimensions of material objects, the paths of particles and photons through spacetime and the distribution of electric and magnetic force lines.\n",
    "* Discover why photons are forward beamed by relativistic motion.\n",
    "* Investigate the fishbowl effect for a rocket ship pilot.\n",
    "* Identify relativistic effects observed in astrophysical jets produced by black holes."
   ]
  },
  {
   "cell_type": "markdown",
   "metadata": {},
   "source": [
    "芭蕾舞者在舞台以速度 $\\beta$ 移動，抬腿仰角 $\\phi'$，觀眾看到的仰角 $\\phi$，關係式為\n",
    "$$\\tan \\phi=\\gamma\\tan\\phi'$$\n",
    "也就是說，觀眾看到的抬腿仰角比實際的大。"
   ]
  },
  {
   "cell_type": "code",
   "execution_count": 1,
   "metadata": {},
   "outputs": [
    {
     "name": "stdout",
     "output_type": "stream",
     "text": [
      "0.931410580017\n",
      "0.598462164337\n"
     ]
    }
   ],
   "source": [
    "# 芭蕾舞者實際抬腿20度，觀眾看到45度，問舞者的速度？\n",
    "import numpy as np\n",
    "def gamma2beta(gamma):\n",
    "    return np.sqrt(1-1/gamma**2)\n",
    "phiprime=20*np.pi/180\n",
    "phi=45*np.pi/180\n",
    "gamma=np.tan(phi)/np.tan(phiprime)\n",
    "print(gamma2beta(gamma))\n",
    "# 產生電場的電子以速度 beta 快速移動，電力線方向由45度(電子座標)變成51.3度(實驗室座標)，問 beta 是多少？\n",
    "a=51.3*np.pi/180\n",
    "print(gamma2beta(np.tan(a)))"
   ]
  },
  {
   "cell_type": "markdown",
   "metadata": {},
   "source": [
    "## 不同座標系統下的質點速度\n",
    "* 在S系統中，S' 系統以速率$\\beta$沿$X$軸正向移動。\n",
    "\n",
    "* 在S'系統中，一質點由原點出發，以方向角 $\\phi'$ 速率 $v'$ 的方式運動。\n",
    "\n",
    "* 在S系統中，該質點的方向角為何？\n",
    "\n",
    "$$ \n",
    "\\left(\\begin{array}{c}\n",
    "      \\Delta t \\\\\n",
    "      \\Delta x \\\\\n",
    "      \\Delta y \\end{array}\\right)\n",
    "=\\left(\\begin{array}{ccc}\n",
    "      \\gamma & \\gamma\\beta &0\\\\\n",
    "      \\gamma\\beta&\\gamma&0 \\\\\n",
    "      0&0&1 \\end{array}\\right)\n",
    "\\left(\\begin{array}{c}\n",
    "      \\Delta t' \\\\\n",
    "      \\Delta x' \\\\\n",
    "      \\Delta y' \\end{array}\\right)\n",
    "=\\left(\\begin{array}{ccc}\n",
    "      \\gamma & \\gamma\\beta &0\\\\\n",
    "      \\gamma\\beta&\\gamma&0 \\\\\n",
    "      0&0&1 \\end{array}\\right)\n",
    "\\left(\\begin{array}{c}\n",
    "      \\Delta t' \\\\\n",
    "      v'\\cos\\phi' \\Delta t'\\\\\n",
    "      v'\\sin\\phi' \\Delta t' \\end{array}\\right)$$\n",
    "因為　$v_x=\\frac{\\Delta x}{\\Delta t}=\\frac{\\gamma\\beta+\\gamma v'cos\\phi'}{\\gamma+\\gamma\\beta v' \\cos\\phi'}\n",
    "    =\\frac{\\beta+v'\\cos\\phi'}{1+\\beta v'\\cos\\phi'}$,\n",
    "$v_y=\\frac{\\Delta y}{\\Delta t}=\\frac{v'\\sin\\phi'}{\\gamma+\\gamma\\beta v' \\cos\\phi'}$，所以\n",
    "$$ \\tan\\phi=\\frac{v'\\sin\\phi'}{\\gamma(\\beta+v'\\cos\\phi')}$$   \n",
    "$$ \\tan\\phi'=\\frac{v\\sin\\phi}{\\gamma(-\\beta+v\\cos\\phi)}$$   \n",
    "\n"
   ]
  },
  {
   "cell_type": "code",
   "execution_count": 2,
   "metadata": {},
   "outputs": [
    {
     "name": "stdout",
     "output_type": "stream",
     "text": [
      "39.9806905075\n",
      "135.924285823\n"
     ]
    }
   ],
   "source": [
    "# 男芭蕾舞者以 0.25 的速度移動，以 60 度的角度 0.5 速率舉起女舞者，觀眾看到的舉起角度為若干？\n",
    "vprime=0.5\n",
    "beta=0.25\n",
    "def beta2gamma(beta):\n",
    "    return 1/np.sqrt(1-beta**2)\n",
    "phiprime=np.pi/3\n",
    "num=vprime*np.sin(phiprime)\n",
    "den=beta2gamma(beta)*(beta+vprime*np.cos(phiprime))\n",
    "print(np.arctan(num/den)*180/np.pi)\n",
    "# 男芭蕾舞者以 0.25 的速度移動，觀眾看到他以 0.25 的速率垂直舉起女舞者，他實際上以甚麼角度舉起？\n",
    "print(180+np.arctan(0.25/(beta2gamma(beta)*(-beta)))*180/np.pi)"
   ]
  },
  {
   "cell_type": "code",
   "execution_count": 11,
   "metadata": {},
   "outputs": [
    {
     "data": {
      "image/png": "[encoded data removed]",
      "text/plain": [
       "<matplotlib.figure.Figure at 0x277df213780>"
      ]
     },
     "metadata": {},
     "output_type": "display_data"
    },
    {
     "name": "stdout",
     "output_type": "stream",
     "text": [
      "60.0\n"
     ]
    }
   ],
   "source": [
    "import numpy as np\n",
    "def beta2gamma(beta):\n",
    "    return np.sqrt(1/(1-beta*beta))\n",
    "def phiprime2phi(beta,vprime,phiprime):\n",
    "    gamma=beta2gamma(beta)\n",
    "    u=np.arctan2(vprime*np.sin(phiprime),gamma*(beta+vprime*np.cos(phiprime)))\n",
    "    return u\n",
    "import matplotlib.pyplot as plt\n",
    "phiprime = np.linspace(0, 180, 181)\n",
    "beta=0.5\n",
    "vprime=1\n",
    "phi=[phiprime2phi(beta,vprime,p*np.pi/180)*180/np.pi for p in phiprime]\n",
    "plt.plot(phiprime,phi)\n",
    "plt.show()\n",
    "print(phi[90])"
   ]
  },
  {
   "cell_type": "markdown",
   "metadata": {},
   "source": [
    "## Headlight Beaming Effect\n",
    "## Headlight Doppler Shift\n",
    "光到觀察者的方向與與光源前進的方向夾角為$\\phi$，光源的頻率$f^\\prime$，光源的速度$\\beta$，觀察者看到的頻率$f$。\n",
    "\n",
    "架座標\n",
    "\n",
    "S' 相對於 S 往X軸正向以$\\beta$速度移動，t=t'=0的時候，光源P在共同的原點，觀察者Q在t=0時候的的座標$Q_S=(0,r\\cos \\phi,r\\sin\\phi)$。\n",
    "在S'系統， $t'=0$ 的時侯，光源往觀察者發光的方向為 $\\phi^\\prime$，$\\phi^\\prime$與$\\phi$間的關係為\n",
    "$$\\cos\\phi^\\prime=\\frac{\\cos\\phi-\\beta}{1-\\beta\\cos\\phi}, \\sin\\phi^\\prime=\\frac{\\sin\\phi}{\\gamma(1-\\beta\\cos\\phi)}$$\n",
    "$$ \\tan\\phi'=\\frac{\\sin\\phi}{\\gamma(\\cos\\phi-\\beta)}$$   \n"
   ]
  },
  {
   "cell_type": "markdown",
   "metadata": {},
   "source": [
    "P往Q傳送光波，第$n$個波峰在P與Q間的事件$E_n$滿足\n",
    "\n",
    "$$n=2\\pi f\\cdot((x,y)\\cdot (\\cos \\phi,\\sin\\phi)-t)= 2\\pi f^\\prime\\cdot((x^\\prime,y^\\prime)\\cdot (\\cos \\phi^\\prime,\\sin\\phi^\\prime)-t^\\prime)$$\n",
    "\n",
    "因此，$$\\begin{equation*}f(x\\cos\\phi+y\\sin\\phi-t)=f^\\prime(x^\\prime\\cos\\phi^\\prime+y^\\prime\\sin\\phi^\\prime-t^\\prime)\\end{equation*}$$"
   ]
  },
  {
   "cell_type": "markdown",
   "metadata": {},
   "source": [
    "利用L.T.， $$\\begin{equation*}\\begin{array}{rcl}\n",
    "x^\\prime\\cos\\phi^\\prime+y^\\prime\\sin\\phi^\\prime-t^\\prime&=&(\\gamma x-\\gamma\\beta t)\\frac{\\cos\\phi-\\beta}{1-\\beta\\cos\\phi}+y\\frac{\\sin\\phi}{\\gamma(1-\\beta\\cos\\phi)}-(\\gamma t-\\gamma \\beta x)\\\\\n",
    "&=& x(\\frac{\\gamma(\\cos\\phi-\\beta)+\\gamma\\beta(1-\\beta\\cos\\phi)}{1-\\beta\\cos\\phi})+y(\\frac{\\sin\\phi}{\\gamma(1-\\beta\\cos\\phi)})-t(\\gamma+\\gamma\\beta\\frac{\\cos\\phi-\\beta}{1-\\beta\\cos\\phi})\\\\\n",
    "&=&x\\frac{\\gamma^2(\\cos\\phi)(1-\\beta^2)}{\\gamma(1-\\beta\\cos\\phi)}+y(\\frac{\\sin\\phi}{\\gamma(1-\\beta\\cos\\phi)})-t(\\frac{1}{\\gamma(1-\\beta\\cos\\phi)})\\\\\n",
    "&=&\\frac{x\\cos\\phi+y\\sin\\phi-t}{\\gamma(1-\\beta\\cos\\phi)}\n",
    "\\end{array}\\end{equation*}$$"
   ]
  },
  {
   "cell_type": "markdown",
   "metadata": {},
   "source": [
    "合併最後兩個式子，得到\n",
    "$$f^\\prime=f\\gamma(1-\\beta\\cos\\phi)$$"
   ]
  },
  {
   "cell_type": "markdown",
   "metadata": {},
   "source": [
    "## PHASE VELOCITY AND THE TRANSFER OF INFORMATION"
   ]
  },
  {
   "cell_type": "markdown",
   "metadata": {},
   "source": [
    "## 摘要\n",
    "* Lorentz transformations permit one to calculate how spatial dimensions of material objects, particle and photon paths through spacetime, and lines of force are transformed by motion.\n",
    "* Lorentz transformations provide a unified description of angle changes and beaming (the same effect as abberation, originally studied by astronomers) and Doppler shifts for light.\n",
    "* Rocket ship pilots see blue shifted stars concentrated in their direction of motion through the galaxy; radiation from moving, isotropically emitting gas is beamed in the direction of motion.\n",
    "* Relativistic astrophysical jets produced by black holes demonstrate many key relativistic effects."
   ]
  },
  {
   "cell_type": "markdown",
   "metadata": {},
   "source": [
    "合併$\\ref{a:1},\\ref{a:2}$得到\n",
    "$$f^\\prime=f\\gamma(1-\\beta\\cos\\phi)$$"
   ]
  }
 ],
 "metadata": {
  "kernelspec": {
   "display_name": "Python 3",
   "language": "python",
   "name": "python3"
  },
  "language_info": {
   "codemirror_mode": {
    "name": "ipython",
    "version": 3
   },
   "file_extension": ".py",
   "mimetype": "text/x-python",
   "name": "python",
   "nbconvert_exporter": "python",
   "pygments_lexer": "ipython3",
   "version": "3.6.3"
  }
 },
 "nbformat": 4,
 "nbformat_minor": 2
}
