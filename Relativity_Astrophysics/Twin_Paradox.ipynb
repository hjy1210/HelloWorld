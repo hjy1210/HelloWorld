{
 "cells": [
  {
   "cell_type": "markdown",
   "metadata": {},
   "source": [
    "* Describe the twin paradox in which a round-trip traveler ages less than a twin who stays at home.\n",
    "* Discover the difference in the aging of the twins is related to a change in frames for the returning twin.\n",
    "* Rule out the paradox as a logical paradox."
   ]
  },
  {
   "cell_type": "markdown",
   "metadata": {},
   "source": [
    "* The twin paradox is not a logical paradox.\n",
    "* As long as the traveling twin does not turn around the twins are symmetric. When A observes B the results are the same as when B observes A.\n",
    "* The traveling twin must switch frames to return home while the stay at home twin occupies a single frame. This breaks the symmetric relationship.\n",
    "* The wristwatch time is less for kinked paths than for straight ones. The traveling twin ages less than the stay at home twin because the change in frame is akin to following a kinked path in spacetime."
   ]
  }
 ],
 "metadata": {
  "kernelspec": {
   "display_name": "Python 3",
   "language": "python",
   "name": "python3"
  },
  "language_info": {
   "codemirror_mode": {
    "name": "ipython",
    "version": 3
   },
   "file_extension": ".py",
   "mimetype": "text/x-python",
   "name": "python",
   "nbconvert_exporter": "python",
   "pygments_lexer": "ipython3",
   "version": "3.6.3"
  }
 },
 "nbformat": 4,
 "nbformat_minor": 2
}
