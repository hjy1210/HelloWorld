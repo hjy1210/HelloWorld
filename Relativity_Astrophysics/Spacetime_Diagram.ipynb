{
 "cells": [
  {
   "cell_type": "markdown",
   "metadata": {},
   "source": [
    "* Introduce spacetime diagrams as a general tool for displaying events in a particular frame.\n",
    "* Relate history to a sequence of events in spacetime.\n",
    "* Explore how the location of events in spacetime diagrams is altered by the choice of a particular frame.\n",
    "* Examine how paths through spacetime appear in multiple frames and demonstrate how the invariance of the spacetime interval is manifest.\n",
    "* Introduce worldlines as a sequence of spacetime events."
   ]
  },
  {
   "cell_type": "markdown",
   "metadata": {},
   "source": [
    "* Time is not measurable, Space position is not measurable. Time difference is measurable, Space difference is also measurabe.\n",
    "* Time/Space difference is measurable, but time/space difference is frame dependent.\n",
    "* Lorentz interval between two events is measurable and frame(inertial frame) independent."
   ]
  }
 ],
 "metadata": {
  "kernelspec": {
   "display_name": "Python 3",
   "language": "python",
   "name": "python3"
  },
  "language_info": {
   "codemirror_mode": {
    "name": "ipython",
    "version": 3
   },
   "file_extension": ".py",
   "mimetype": "text/x-python",
   "name": "python",
   "nbconvert_exporter": "python",
   "pygments_lexer": "ipython3",
   "version": "3.6.3"
  }
 },
 "nbformat": 4,
 "nbformat_minor": 2
}
