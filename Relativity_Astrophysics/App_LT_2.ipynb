{
 "cells": [
  {
   "cell_type": "markdown",
   "metadata": {},
   "source": [
    "[spectra.pdf](https://prod-edxapp.edx-cdn.org/assets/courseware/v1/246659e35f31afbb3c889a472d89adc2/c4x/CornellX/Astro2290x/asset/details-on-blackbody-spectra.pdf)\n",
    "The energy flux for the Planck black body\n",
    "$$ \\begin{array}{rcl}\n",
    "F_\\lambda&=&\\frac{2\\pi h c^2}{\\lambda^5}\\frac{1}{e^{hc/(ckT)}-1}\\\\\n",
    "&=& 2\\pi\\frac{k^5T^5}{h^4c^3}\\frac{1}{x^5(e^{1/x}-1)}\\\\\n",
    "&\\equiv &A\\cdot\\frac{1}{x^5(e^{1/x}-1)}\n",
    "\\end{array}$$\n",
    "其中，$x=\\frac{\\lambda k T}{hc}=\\frac{kT}{chf}$\n"
   ]
  },
  {
   "cell_type": "code",
   "execution_count": 7,
   "metadata": {},
   "outputs": [
    {
     "ename": "SyntaxError",
     "evalue": "invalid syntax (<ipython-input-7-aff8a3e4645f>, line 2)",
     "output_type": "error",
     "traceback": [
      "\u001b[1;36m  File \u001b[1;32m\"<ipython-input-7-aff8a3e4645f>\"\u001b[1;36m, line \u001b[1;32m2\u001b[0m\n\u001b[1;33m    def pbb(lambda,T):\u001b[0m\n\u001b[1;37m                 ^\u001b[0m\n\u001b[1;31mSyntaxError\u001b[0m\u001b[1;31m:\u001b[0m invalid syntax\n"
     ]
    }
   ],
   "source": [
    "import numpy as np\n",
    "# plank black body photo wavelength distribution\n",
    "def pbb(lambda,T):\n",
    "  A=2*np.pi*(k*T)**5 /h**4 / c**3\n",
    "  x=lambda*k*T/k/c\n",
    "  return A/x**5/(np.exp(1/x)-1)\n"
   ]
  },
  {
   "cell_type": "markdown",
   "metadata": {},
   "source": [
    "## The Scale and Expansion of the Universe\n",
    "[Cosmic distance ladder](https://en.wikipedia.org/wiki/Cosmic_distance_ladder)\n",
    "\n",
    "* Hubble expansion\n",
    "\n",
    "$$ v=H_0 d $$\n",
    "\n",
    "* right side of the following equation is independent of d imply universe doubled within constant time period\n",
    "\n",
    "$$\\frac{v\\Delta T}{d}=H_0\\Delta T$$"
   ]
  },
  {
   "cell_type": "code",
   "execution_count": 8,
   "metadata": {},
   "outputs": [
    {
     "data": {
      "text/plain": [
       "('universe age is ', 13978129303.471767, 'years')"
      ]
     },
     "execution_count": 8,
     "metadata": {},
     "output_type": "execute_result"
    }
   ],
   "source": [
    "\"universe age is \",3.0857/7*10**18/365/86400,\"years\""
   ]
  },
  {
   "cell_type": "markdown",
   "metadata": {},
   "source": [
    "## Cosmic Microwave Background Radiation and the Age of the Universe\n",
    "## Weighing Galaxies\n",
    "$$v_c=\\sqrt{\\frac{GM}{r}}$$\n",
    "## Dark Matter\n",
    "[Dark Matter](https://en.wikipedia.org/wiki/Dark_matter)\n",
    "## Exoplanets and Invisible Binary Companions\n",
    "The Doppler shift provides an important means for locating exoplanets, planets orbiting other stars. The idea is simple: in a gravitationally bound binary (e.g. two stars, or a star and a planet) the separate elements orbit about a common center of mass. The velocity of each varies over an orbit. Even if only one of the two elements shines brightly enough to be seen directly, the change in its velocity depends upon the other invisible element so one may be able to infer the existence of otherwise invisible objects.  The Doppler shift is the most sensitive means of measuring the velocity. This has led to the discovery of many exoplanets (planets orbiting other stars) and also stellar binaries (systems where one is dim or does not shine at all.)\n",
    "\n",
    "HARP(High Accuracy Radial velocity Planet searcher) at ESO Observatory in Chile 用紅位移效應可以偵測速度變化的誤差到30cm/s以內。\n",
    "[Kepler Project](https://www.nasa.gov/mission_pages/kepler/main/index.html)\n",
    "\n",
    "## 摘要\n",
    "* Learned about the spectra of stars.\n",
    "* Described thermal equilibrium for matter and photons.\n",
    "* Reviewed the basis of lines in astrophysical spectra.\n",
    "* Investigated Doppler shifts in astronomy.\n",
    "* Used spectral analysis to calculate how far away gases are, how fast they are moving and what they are composed of.\n",
    "* Reviewed case studies: the size of the galaxy and the universe, weighing galaxies, and the hunt for exoplanets."
   ]
  },
  {
   "cell_type": "code",
   "execution_count": 3,
   "metadata": {},
   "outputs": [
    {
     "data": {
      "text/plain": [
       "(0.33333333333333337, 3.700743415417189e-15)"
      ]
     },
     "execution_count": 3,
     "metadata": {},
     "output_type": "execute_result"
    }
   ],
   "source": [
    "from scipy import integrate\n",
    "def f(x):\n",
    "  return x**2\n",
    "integrate.quad(f,0,1)"
   ]
  }
 ],
 "metadata": {
  "kernelspec": {
   "display_name": "Python 3",
   "language": "python",
   "name": "python3"
  },
  "language_info": {
   "codemirror_mode": {
    "name": "ipython",
    "version": 3
   },
   "file_extension": ".py",
   "mimetype": "text/x-python",
   "name": "python",
   "nbconvert_exporter": "python",
   "pygments_lexer": "ipython3",
   "version": "3.6.3"
  }
 },
 "nbformat": 4,
 "nbformat_minor": 2
}
