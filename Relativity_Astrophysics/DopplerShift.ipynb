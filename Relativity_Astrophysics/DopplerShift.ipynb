{
 "cells": [
  {
   "cell_type": "markdown",
   "metadata": {},
   "source": [
    "Maxwell's Equations for Light\n",
    "$$E=E_0\\cos \\Phi$$\n",
    "$$\\Phi=2\\pi(\\frac{x}{\\lambda}\\mp\\frac{t}{P})$$\n",
    "$\\lambda$: wavelength, $P=\\frac{1}{\\lambda}$: period, $-$: wave move to right, $+$: wave move to left\n",
    "\n",
    "Maxwell's Eqns $\\rightarrow c=\\lambda f$\n",
    "\n",
    "\n",
    "$$\\Phi=2\\pi f \\times(\\frac{x}{c}\\mp t)$$\n",
    "\n",
    "If measure x in terms of time, \n",
    "\n",
    "$$\\Phi=2\\pi f\\times(x\\mp t)$$\n",
    "\n",
    "n-th peak:\n",
    "$$ n=f\\times(x\\mp t)$$\n",
    "\n",
    "Question:\n",
    "If $f=5$, when does the peak moving to the right (pictured in the whiteboard at t=0 labeled by n=1) arrive at x=10 ?\n",
    "\n",
    "Solution:$1=5\\times(10-t)$, $t=\\frac{50-1}{5}=9.8$\n",
    "\n",
    "Question:\n",
    "If $f=5$, when does the peak moving to the left (pictured in the whiteboard at t=0 labeled by n=1) arrive at x=10 ?\n",
    "\n",
    "Solution: $1=5\\times(10+t)$, $t=\\frac{50-1}{-5}=-9.8$\n"
   ]
  },
  {
   "cell_type": "markdown",
   "metadata": {},
   "source": [
    "$$ \\begin{array}{rcl}\n",
    "F_\\lambda&=&\\frac{2\\pi h c^2}{\\lambda^5}\\frac{1}{e^{hc/(ckT)}-1}\\\\\n",
    "&=& 2\\pi\\frac{k^5T^5}{h^4c^3}\\frac{1}{x^5(e^{1/x}-1)}\\\\\n",
    "&\\equiv &A\\cdot\\frac{1}{x^5(e^{1/x}-1)}\n",
    "\\end{array}$$\n",
    "其中，$x=\\frac{\\lambda k T}{hc}=\\frac{kT}{chf}$\n"
   ]
  },
  {
   "cell_type": "code",
   "execution_count": null,
   "metadata": {
    "collapsed": true
   },
   "outputs": [],
   "source": [
    "def pbb(lambda):\n",
    "  A=2*np.pi*(k*T)**5 /h**4 / c**3\n",
    "  x=lambda*k*T/k/c\n",
    "  return A/x**5/(np.exp(1/x)-1)\n"
   ]
  },
  {
   "cell_type": "code",
   "execution_count": 3,
   "metadata": {},
   "outputs": [
    {
     "data": {
      "text/plain": [
       "(0.33333333333333337, 3.700743415417189e-15)"
      ]
     },
     "execution_count": 3,
     "metadata": {},
     "output_type": "execute_result"
    }
   ],
   "source": [
    "from scipy import integrate\n",
    "def f(x):\n",
    "  return x**2\n",
    "integrate.quad(f,0,1)"
   ]
  },
  {
   "cell_type": "code",
   "execution_count": 4,
   "metadata": {},
   "outputs": [
    {
     "data": {
      "text/plain": [
       "13589910850.18482"
      ]
     },
     "execution_count": 4,
     "metadata": {},
     "output_type": "execute_result"
    }
   ],
   "source": [
    "3/7*10**18/365/86400\n"
   ]
  },
  {
   "cell_type": "markdown",
   "metadata": {},
   "source": [
    "芭蕾舞者在舞台以速度 $\\beta$ 移動，抬腿仰角 $\\phi'$，觀眾看到的仰角 $\\phi$，關係式為\n",
    "$$\\tan \\phi=\\gamma\\tan\\phi'$$\n",
    "也就是說，觀眾看到的抬腿仰角比實際的大。"
   ]
  },
  {
   "cell_type": "code",
   "execution_count": 6,
   "metadata": {},
   "outputs": [
    {
     "name": "stdout",
     "output_type": "stream",
     "text": [
      "0.931410580017\n",
      "0.598462164337\n"
     ]
    }
   ],
   "source": [
    "# 芭蕾舞者實際抬腿20度，觀眾看到45度，問舞者的速度？\n",
    "import numpy as np\n",
    "def gamma2beta(gamma):\n",
    "    return np.sqrt(1-1/gamma**2)\n",
    "phiprime=20*np.pi/180\n",
    "phi=45*np.pi/180\n",
    "gamma=np.tan(phi)/np.tan(phiprime)\n",
    "print(gamma2beta(gamma))\n",
    "# 產生電場的電子以速度 beta 快速移動，電力線方向由45度(電子座標)變成51.3度(實驗室座標)，問 beta 是多少？\n",
    "a=51.3*np.pi/180\n",
    "print(gamma2beta(np.tan(a)))"
   ]
  },
  {
   "cell_type": "markdown",
   "metadata": {},
   "source": [
    "## 不同座標系統下的質點速度\n",
    "* 在S系統中，S' 系統以速率$\\beta$沿$X$軸正向移動。\n",
    "\n",
    "* 在S'系統中，一質點由原點出發，以方向角 $\\phi'$ 速率 $v'$ 的方式運動。\n",
    "\n",
    "* 在S系統中，該質點的方向角為何？\n",
    "\n",
    "$$ \n",
    "\\left(\\begin{array}{c}\n",
    "      \\Delta t \\\\\n",
    "      \\Delta x \\\\\n",
    "      \\Delta y \\end{array}\\right)\n",
    "=\\left(\\begin{array}{ccc}\n",
    "      \\gamma & \\gamma\\beta &0\\\\\n",
    "      \\gamma\\beta&\\gamma&0 \\\\\n",
    "      0&0&1 \\end{array}\\right)\n",
    "\\left(\\begin{array}{c}\n",
    "      \\Delta t' \\\\\n",
    "      \\Delta x' \\\\\n",
    "      \\Delta y' \\end{array}\\right)\n",
    "=\\left(\\begin{array}{ccc}\n",
    "      \\gamma & \\gamma\\beta &0\\\\\n",
    "      \\gamma\\beta&\\gamma&0 \\\\\n",
    "      0&0&1 \\end{array}\\right)\n",
    "\\left(\\begin{array}{c}\n",
    "      \\Delta t' \\\\\n",
    "      v'\\cos\\phi' \\Delta t'\\\\\n",
    "      v'\\sin\\phi' \\Delta t' \\end{array}\\right)$$\n",
    "因為　$v_x=\\frac{\\Delta x}{\\Delta t}=\\frac{\\gamma\\beta+\\gamma v'cos\\phi'}{\\gamma+\\gamma\\beta v' \\cos\\phi'}\n",
    "    =\\frac{\\beta+v'\\cos\\phi'}{1+\\beta v'\\cos\\phi'}$,\n",
    "$v_y=\\frac{\\Delta y}{\\Delta t}=\\frac{v'\\sin\\phi'}{\\gamma+\\gamma\\beta v' \\cos\\phi'}$，所以\n",
    "$$ \\tan\\phi=\\frac{v'\\sin\\phi'}{\\gamma(\\beta+v'\\cos\\phi')}$$   \n",
    "$$ \\tan\\phi'=\\frac{v\\sin\\phi}{\\gamma(-\\beta+v\\cos\\phi)}$$   \n"
   ]
  },
  {
   "cell_type": "code",
   "execution_count": 12,
   "metadata": {},
   "outputs": [
    {
     "name": "stdout",
     "output_type": "stream",
     "text": [
      "39.9806905075\n",
      "135.924285823\n"
     ]
    }
   ],
   "source": [
    "# 男芭蕾舞者以 0.25 的速度移動，以 60 度的角度 0.5 速率舉起女舞者，觀眾看到的舉起角度為若干？\n",
    "vprime=0.5\n",
    "beta=0.25\n",
    "def beta2gamma(beta):\n",
    "    return 1/np.sqrt(1-beta**2)\n",
    "phiprime=np.pi/3\n",
    "num=vprime*np.sin(phiprime)\n",
    "den=beta2gamma(beta)*(beta+vprime*np.cos(phiprime))\n",
    "print(np.arctan(num/den)*180/np.pi)\n",
    "# 男芭蕾舞者以 0.25 的速度移動，觀眾看到他以 0.25 的速率垂直舉起女舞者，他實際上以甚麼角度舉起？\n",
    "print(180+np.arctan(0.25/(beta2gamma(beta)*(-beta)))*180/np.pi)"
   ]
  }
 ],
 "metadata": {
  "kernelspec": {
   "display_name": "Python 3",
   "language": "python",
   "name": "python3"
  },
  "language_info": {
   "codemirror_mode": {
    "name": "ipython",
    "version": 3
   },
   "file_extension": ".py",
   "mimetype": "text/x-python",
   "name": "python",
   "nbconvert_exporter": "python",
   "pygments_lexer": "ipython3",
   "version": "3.6.3"
  }
 },
 "nbformat": 4,
 "nbformat_minor": 2
}
