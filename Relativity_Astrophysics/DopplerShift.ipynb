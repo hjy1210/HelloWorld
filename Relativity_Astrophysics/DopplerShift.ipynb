{
 "cells": [
  {
   "cell_type": "markdown",
   "metadata": {},
   "source": [
    "Maxwell's Equations for Light\n",
    "$$E=E_0\\cos \\Phi$$\n",
    "$$\\Phi=2\\pi(\\frac{x}{\\lambda}\\mp\\frac{t}{P})$$\n",
    "$\\lambda$: wavelength, $P=\\frac{1}{f}$: period, $-$: wave move to right, $+$: wave move to left\n",
    "\n",
    "Maxwell's Eqns $\\rightarrow c=\\lambda f$\n",
    "\n",
    "\n",
    "$$\\Phi=2\\pi f \\times(\\frac{x}{c}\\mp t)$$\n",
    "\n",
    "If measure x in terms of time, \n",
    "\n",
    "$$\\Phi=2\\pi f\\times(x\\mp t)$$\n",
    "\n",
    "n-th peak:\n",
    "$$ n=f\\times(x\\mp t)$$\n",
    "\n",
    "Question:\n",
    "If $f=5$, when does the peak moving to the right (pictured in the whiteboard at t=0 labeled by n=1) arrive at x=10 ?\n",
    "\n",
    "Solution:$1=5\\times(10-t)$, $t=\\frac{50-1}{5}=9.8$\n",
    "\n",
    "Question:\n",
    "If $f=5$, when does the peak moving to the left (pictured in the whiteboard at t=0 labeled by n=1) arrive at x=10 ?\n",
    "\n",
    "Solution: $1=5\\times(10+t)$, $t=\\frac{50-1}{-5}=-9.8$\n"
   ]
  },
  {
   "cell_type": "markdown",
   "metadata": {},
   "source": [
    "相對論觀點\n",
    "\n",
    "當光源以$\\beta$的速度靠近時，觀察到的頻率$f$與光源的頻率$f'$間的關係推導如下：\n",
    "\n",
    "$$\\begin{array}{rcl}\n",
    "\\Delta x'&=&\\gamma\\Delta x-\\beta\\gamma\\Delta t\\\\\n",
    "\\Delta t'&=&-\\beta\\gamma\\Delta x+\\gamma\\Delta t\n",
    "\\end{array}$$\n",
    "因此，$\\Delta x'-\\Delta t'=\\gamma\\Delta x(1+\\beta)-\\gamma\\Delta t(1+\\beta)$，而 $f/f'=\\frac{\\Delta x'-\\Delta t'}{\\Delta x-\\Delta t}=\\gamma(1+\\beta)=\\sqrt{\\frac{1+\\beta}{1-\\beta}}$，\n",
    "故\n",
    "$$f=f'\\sqrt{\\frac{1+\\beta}{1-\\beta}}$$\n"
   ]
  },
  {
   "cell_type": "markdown",
   "metadata": {},
   "source": [
    "伽利略觀點\n",
    "\n",
    "當光源以 $\\beta$ 的速度靠近時，觀察到的頻率 $f$ 與光源的頻率 $f'$ 間的關係推導如下：\n",
    "當光源發出第$n(n<0)$個波鋒的事件，$\\Delta x'=0, \\Delta t'=\\frac{n}{f'}, \\Delta t=\\Delta t', \\Delta x=\\beta\\Delta t=\\beta\\frac{n}{f'}$。\n",
    "$\\Delta t_n$ 為第$n$個波鋒到達觀察者的時間，則 $\\frac{n}{f}=\\Delta t_n=\\Delta t-\\Delta x=\\frac{n}{f'}(1-\\beta)$。因此，\n",
    "$$f=f'\\frac{1}{1-\\beta}$$"
   ]
  },
  {
   "cell_type": "markdown",
   "metadata": {},
   "source": [
    "[Ives–Stilwell experiment](https://en.wikipedia.org/wiki/Ives%E2%80%93Stilwell_experiment)(which wasn’t performed until 1938) was the first to test the relativistic Doppler shift of waves. It is considered to be one of the fundamental tests of the theory of special relativity.\n",
    "\n",
    "[doppler.pdf](https://prod-edxapp.edx-cdn.org/assets/courseware/v1/4b1e512d68eb557a972b0d178d0ca793/c4x/CornellX/Astro2290x/asset/doppler.pdf)"
   ]
  },
  {
   "cell_type": "code",
   "execution_count": 3,
   "metadata": {},
   "outputs": [
    {
     "data": {
      "text/plain": [
       "('reced', 0.6)"
      ]
     },
     "execution_count": 3,
     "metadata": {},
     "output_type": "execute_result"
    }
   ],
   "source": [
    "import numpy as np\n",
    "def beta(f,fprime):\n",
    "  r=f/fprime\n",
    "  r2=r**2\n",
    "  if r>1:\n",
    "    return \"approaching\",(r2-1)/2/r2\n",
    "  else:\n",
    "    return \"receding\",(1-r2)/(1+r2)\n",
    "beta(1/12000,1/6000)"
   ]
  },
  {
   "cell_type": "markdown",
   "metadata": {},
   "source": [
    "## 摘要\n",
    "* Light's propagation according to Maxwell's equations.\n",
    "* Peaks in traveling waves.\n",
    "* The Doppler shift according to special relativity.\n",
    "* The similarities and differences between the Galilean and relativistic treatments of the Doppler shift.\n",
    "* How the transformation of new physical quantities may be derived starting from the transformation properties of space and time."
   ]
  },
  {
   "cell_type": "markdown",
   "metadata": {},
   "source": []
  },
  {
   "cell_type": "code",
   "execution_count": null,
   "metadata": {
    "collapsed": true
   },
   "outputs": [],
   "source": []
  },
  {
   "cell_type": "code",
   "execution_count": 3,
   "metadata": {},
   "outputs": [
    {
     "data": {
      "text/plain": [
       "(0.33333333333333337, 3.700743415417189e-15)"
      ]
     },
     "execution_count": 3,
     "metadata": {},
     "output_type": "execute_result"
    }
   ],
   "source": []
  },
  {
   "cell_type": "code",
   "execution_count": 4,
   "metadata": {},
   "outputs": [
    {
     "data": {
      "text/plain": [
       "13589910850.18482"
      ]
     },
     "execution_count": 4,
     "metadata": {},
     "output_type": "execute_result"
    }
   ],
   "source": []
  },
  {
   "cell_type": "markdown",
   "metadata": {},
   "source": []
  },
  {
   "cell_type": "code",
   "execution_count": 6,
   "metadata": {},
   "outputs": [
    {
     "name": "stdout",
     "output_type": "stream",
     "text": [
      "0.931410580017\n",
      "0.598462164337\n"
     ]
    }
   ],
   "source": []
  },
  {
   "cell_type": "markdown",
   "metadata": {},
   "source": []
  },
  {
   "cell_type": "code",
   "execution_count": 12,
   "metadata": {},
   "outputs": [
    {
     "name": "stdout",
     "output_type": "stream",
     "text": [
      "39.9806905075\n",
      "135.924285823\n"
     ]
    }
   ],
   "source": []
  }
 ],
 "metadata": {
  "kernelspec": {
   "display_name": "Python 3",
   "language": "python",
   "name": "python3"
  },
  "language_info": {
   "codemirror_mode": {
    "name": "ipython",
    "version": 3
   },
   "file_extension": ".py",
   "mimetype": "text/x-python",
   "name": "python",
   "nbconvert_exporter": "python",
   "pygments_lexer": "ipython3",
   "version": "3.6.1"
  }
 },
 "nbformat": 4,
 "nbformat_minor": 2
}
