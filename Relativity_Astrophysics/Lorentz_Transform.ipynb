{
 "cells": [
  {
   "cell_type": "markdown",
   "metadata": {},
   "source": [
    "## The Lorentz Transformation: Relating time and space for different reference frames\n",
    "* Set forth the mathematical form of the Lorentz transformation.\n",
    "* Explain it's basis and work through a few reality checks.\n",
    "* Derive the explicit form for the Lorentz transformation.\n",
    "\n",
    "##  Lorentz Transformation 的推導\n",
    "由\n",
    "* 線性變換\n",
    "\n",
    "$$\\begin{array}{rcl}\n",
    "\\Delta x&=&A\\Delta x'+B\\Delta t'\\\\\n",
    "\\Delta t&=&C\\Delta x'+D\\Delta t'\n",
    "\\end{array}$$\n",
    "* Lorentz interval 不變性\n",
    "\n",
    "推導Lorentz Transform\n",
    "\n",
    "### **考慮 $\\Delta x'=0$ 的特殊情形**\n",
    "$$\\begin{array}{rcl}\n",
    "\\Delta x&=&B\\Delta t'\\\\\n",
    "\\Delta t&=&D\\Delta t'\n",
    "\\end{array}$$\n",
    "因為 $\\beta=\\frac{\\Delta x}{\\Delta t}=\\frac{B}{D}$，所以 $B=\\beta D$。\n",
    "\n",
    "\n",
    "因為 $(\\Delta t)^2-(\\Delta x)^2=(D^2-B^2)(\\Delta t')^2=D^2(1-\\beta^2)(\\Delta t')^2$，根據Lorentz interval的不變性，\n",
    "$D^2(1-\\beta^2)=1$，因此 $D=\\frac{1}{\\sqrt{1-\\beta^2}}=\\gamma$，$B=\\beta\\gamma$。\n",
    "\n",
    "### **考慮一般情形**\n",
    "$$\\begin{array}{rcl}\n",
    "\\Delta x&=&A\\Delta x'+\\beta\\gamma\\Delta t'\\\\\n",
    "\\Delta t&=&C\\Delta x'+\\gamma\\Delta t'\n",
    "\\end{array}$$\n",
    "\n",
    "因為 $(\\Delta t)^2-(\\Delta x)^2=(C^2-A^2)(\\Delta x')^2+\\gamma^2(1-\\beta^2)(\\Delta t')^2+2(C\\gamma-A\\beta\\gamma)\\Delta x'\\Delta t'$，根據Lorentz interval的不變性，\n",
    "\n",
    "$$\\begin{array}{rcl}\n",
    "C&=& \\beta A \\\\\n",
    "C^2-A^2&=&-1\n",
    "\\end{array}$$\n",
    "\n",
    "得到 $A=\\gamma, C=\\beta\\gamma$。\n",
    "\n",
    "所以 Lorentz Transform 為\n",
    "\n",
    "$$\\begin{array}{rcl}\n",
    "\\Delta x&=&\\gamma\\Delta x'+\\beta\\gamma\\Delta t'\\\\\n",
    "\\Delta t&=&\\beta\\gamma\\Delta x'+\\gamma\\Delta t'\n",
    "\\end{array}$$\n",
    "\n",
    "其中的 $\\gamma=\\frac{1}{1-\\beta^2}$ 為 Lorentz factor。\n",
    "\n",
    "### Lorentz transform 與速度相加\n",
    "$$\\frac{\\Delta x}{\\Delta t}=\\frac{\\gamma \\Delta x'+\\beta\\gamma\\Delta t'}{\\beta\\gamma\\Delta x'+\\gamma\\Delta t'}=\\frac{\\gamma u'+\\beta\\gamma}{\\beta\\gamma u'+\\gamma}=\\frac{u'+\\beta}{1+u'\\beta}$$\n",
    "\n"
   ]
  },
  {
   "cell_type": "code",
   "execution_count": 1,
   "metadata": {},
   "outputs": [
    {
     "name": "stdout",
     "output_type": "stream",
     "text": [
      "0.994475138121547\n"
     ]
    }
   ],
   "source": [
    "def velocity_add(u,v):\n",
    "  return (u+v)/(1+u*v)\n",
    "\n",
    "print(velocity_add(0.9,0.9))\n"
   ]
  },
  {
   "cell_type": "markdown",
   "metadata": {},
   "source": [
    "### 完整的 Spacetime Lorentz Transform\n",
    "$$\\left(\\begin{array}{r}\n",
    "\\Delta t\\\\\n",
    "\\Delta x\\\\\n",
    "\\Delta y\\\\\n",
    "\\Delta z\n",
    "\\end{array}\\right)=\n",
    "\\left(\\begin{array}{cccc}\n",
    "\\gamma & \\beta\\gamma & 0 & 0\\\\\n",
    "\\beta\\gamma & \\gamma & 0 & 0\\\\\n",
    "0 & 0 & 1 & 0\\\\\n",
    "0 & 0 & 0 & 1\n",
    "\\end{array}\\right)\n",
    "\\left(\\begin{array}{r}\n",
    "\\Delta t'\\\\\n",
    "\\Delta x'\\\\\n",
    "\\Delta y'\\\\\n",
    "\\Delta z'\n",
    "\\end{array}\\right)$$\n",
    "\n",
    "## Moving Train\n",
    "\n",
    "### Using ruler to determine the length of the train\n",
    "Two events occur simultaneously at two ends of train in ground frame, $\\Delta t=0$ and $\\Delta x=L$ is the length of train measured in ground frame.\n",
    "\n",
    "因為 $\\Delta t=0$，所以 $\\gamma \\Delta t'+\\beta\\gamma \\Delta x'=0$，得到 $\\Delta t'=-\\beta \\Delta x'$。由此 \n",
    "\n",
    "$$\\Delta x=\\gamma \\Delta x'+\\beta\\gamma\\Delta t'=\\gamma(1-\\beta^2)\\Delta x'=\\frac{\\Delta x'}{\\gamma}$$\n"
   ]
  },
  {
   "cell_type": "code",
   "execution_count": 2,
   "metadata": {},
   "outputs": [
    {
     "name": "stdout",
     "output_type": "stream",
     "text": [
      "45.8831467741\n",
      "20.0000001\n"
     ]
    }
   ],
   "source": [
    "import numpy as np\n",
    "print(20/np.sqrt(1-0.9**2))\n",
    "print(20/np.sqrt(1-0.0001**2))\n"
   ]
  },
  {
   "cell_type": "markdown",
   "metadata": {},
   "source": [
    "### Using passage of time to determine the length of the train\n",
    "Two events are two ends of train pass origin of ground frame.\n",
    "\n",
    "因為 $\\Delta x=0$，所以 $\\gamma \\Delta x'+\\beta\\gamma \\Delta t'=0$，得到 $\\Delta t'=- \\Delta x'/\\beta$。由此 \n",
    "\n",
    "$$\\Delta t=\\gamma \\Delta t'+\\beta\\gamma\\Delta x'=\\beta\\gamma(1-\\beta^{-2})\\Delta x'=\\frac{-\\Delta x'}{\\gamma\\beta}$$\n",
    "\n",
    "則\n",
    "\n",
    "$$L=\\beta \\Delta t=\\frac{-\\Delta x'}{\\gamma}$$\n",
    "\n",
    "## supernova 1987A\n",
    "[supernova 1987A](http://hubblesite.org/news_release/news/2007-10)\n",
    "\n",
    "[SN1987a.pdf](https://prod-edxapp.edx-cdn.org/assets/courseware/v1/a37558bf7307277c7462948623d241f8/c4x/CornellX/Astro2290x/asset/SN1987a.pdf)\n",
    "\n",
    "## Star Crossed Lovers or Star Wars\n",
    "[Star Crossed Lovers](https://prod-edxapp.edx-cdn.org/assets/courseware/v1/60510da0fac186d9bb3d62a632b485ae/c4x/CornellX/Astro2290x/asset/lovers.pdf)\n",
    "\n",
    "## 摘要\n",
    "* Determined how to combine velocities in special relativity (the Law of Addition of Velocities).\n",
    "Contrasted this result with the simple addition of velocities of Galilean physics.\n",
    "* Found the Galilean result to be a good approximation when velocities are small compared to the  speed of light and light travel times are negligible compared to time intervals of interest.\n",
    "* Derived the Lorentz transformation.\n",
    "* Analyzed length measurement and simultaneity.\n",
    "Reviewed the astrophysical significance of SN1987a.\n",
    "Studied how the line of simultaneity depends upon relative motion.\n",
    "* Considered the consequences for causality if faster than light travel were possible."
   ]
  }
 ],
 "metadata": {
  "kernelspec": {
   "display_name": "Python 3",
   "language": "python",
   "name": "python3"
  },
  "language_info": {
   "codemirror_mode": {
    "name": "ipython",
    "version": 3
   },
   "file_extension": ".py",
   "mimetype": "text/x-python",
   "name": "python",
   "nbconvert_exporter": "python",
   "pygments_lexer": "ipython3",
   "version": "3.6.1"
  }
 },
 "nbformat": 4,
 "nbformat_minor": 2
}
