{
 "cells": [
  {
   "cell_type": "markdown",
   "metadata": {},
   "source": [
    "* Define a relativistic generalization of energy and momentum called the Momentum 4-vector.\n",
    "* Assert that all experimental evidence says that an isolated system's Momentum 4-vector is conserved.\n",
    "* Recover the usual Newtonian conservation laws in the limit of small velocities.\n",
    "* Discover the basis for $E=mc^2$."
   ]
  },
  {
   "cell_type": "markdown",
   "metadata": {},
   "source": [
    "## Momentum-Energy Four Vector\n",
    "* How to define the Momentum four-vector .\n",
    "* Magnitude and direction of $P$.\n",
    "* Form of $P$ for velocities small compared to $c$.\n",
    "* How conservation laws are encapsulated in special relativity.\n",
    "* Collisions.\n"
   ]
  },
  {
   "cell_type": "markdown",
   "metadata": {},
   "source": [
    "$P=\\frac{m}{\\Delta \\tau}(\\Delta t,\\Delta x,\\Delta y,\\Delta z)\\equiv(E,p)$"
   ]
  },
  {
   "cell_type": "markdown",
   "metadata": {},
   "source": [
    "$$P^2=m^2$$\n",
    "$$E^2-p^2=m^2$$"
   ]
  },
  {
   "cell_type": "markdown",
   "metadata": {},
   "source": [
    "靜止物體的能量 $$E=mc^2$$"
   ]
  },
  {
   "cell_type": "markdown",
   "metadata": {},
   "source": [
    "## Conservation Laws and Collisions Between Particles\n",
    "* The system's relativistic energy is the same before/after.\n",
    "* The system's relativistic momentum is the same before/after.\n",
    "* The system's rest mass is the same before/after."
   ]
  },
  {
   "cell_type": "markdown",
   "metadata": {},
   "source": [
    "[Dark matter](https://en.wikipedia.org/wiki/Dark_matter)提到：宇宙中，暗物質佔所有物質的比例約為85%。"
   ]
  },
  {
   "cell_type": "code",
   "execution_count": 2,
   "metadata": {},
   "outputs": [
    {
     "name": "stdout",
     "output_type": "stream",
     "text": [
      "0.8454258675078864\n"
     ]
    }
   ],
   "source": [
    "print(26.8/(26.8+4.9))"
   ]
  },
  {
   "cell_type": "markdown",
   "metadata": {},
   "source": [
    "System's rest mass isn't the sum of the individual rest masses"
   ]
  },
  {
   "cell_type": "markdown",
   "metadata": {},
   "source": [
    "## 摘要\n",
    "* Newtonian definitions of energy and momentum and Newtonian conservation laws.\n",
    "* The definition of the Momentum four-vector as the tangent of a worldline in spacetime.\n",
    "* The invariant length of the Momentum four-vector is the basis of Einstein's relation between mass, energy and momentum.\n",
    "* The system Momentum four-vector is the sum of the Momentum four-vectors of non-interacting parts; the system rest mass, however, is not the sum of the individual rest masses.\n",
    "* Special relativity conserves the system Momentum four-vector; it conserves the system rest mass.\n",
    "* Special relativity conservation laws reduce to Newtonian conservation laws in the limit of small velocities.\n",
    "* Rest mass differences allow energy conservation in special relativity."
   ]
  }
 ],
 "metadata": {
  "kernelspec": {
   "display_name": "Python 3",
   "language": "python",
   "name": "python3"
  },
  "language_info": {
   "codemirror_mode": {
    "name": "ipython",
    "version": 3
   },
   "file_extension": ".py",
   "mimetype": "text/x-python",
   "name": "python",
   "nbconvert_exporter": "python",
   "pygments_lexer": "ipython3",
   "version": "3.6.3"
  }
 },
 "nbformat": 4,
 "nbformat_minor": 2
}
