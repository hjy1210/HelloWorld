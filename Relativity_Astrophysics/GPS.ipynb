{
 "cells": [
  {
   "cell_type": "markdown",
   "metadata": {},
   "source": [
    "$dt_s$ 是衛星上時間的微小變化量，$dt_E$ 是赤道上時間的微小變化量，$\\frac{dt_s}{dt_E}是衛星上的時間與赤道上時間的變化比$。\n",
    "\n",
    "$$\\left(\\frac{dt_s}{dt_E}\\right)^2=\\left(\\frac{1-\\frac{2M}{r_s}-v_s^2}{1-\\frac{2M}{r_E}-v_E^2}\\right)^2$$"
   ]
  },
  {
   "cell_type": "markdown",
   "metadata": {},
   "source": [
    "衛星以等速率 $v$ 繞地球進行半徑為 $r$ 週期 $T$ 為半天的圓周運動，解出 $v$ 與 $r$。"
   ]
  },
  {
   "cell_type": "markdown",
   "metadata": {},
   "source": [
    "\n",
    "$$v=\\frac{2\\pi r}{T}$$\n",
    "$$\\frac{GMm}{r^2}=\\frac{mv^2}{r}$$"
   ]
  },
  {
   "cell_type": "markdown",
   "metadata": {},
   "source": [
    "$$r=\\frac{GM}{v^2}=\\frac{Tv}{2\\pi}$$"
   ]
  },
  {
   "cell_type": "markdown",
   "metadata": {},
   "source": [
    "$$v^3=\\frac{2\\pi GM}{T}$$"
   ]
  },
  {
   "cell_type": "code",
   "execution_count": 44,
   "metadata": {},
   "outputs": [
    {
     "name": "stdout",
     "output_type": "stream",
     "text": [
      "M = 0.004435027574029947 m\n",
      "v_E square = 2.3937208030747504e-12\n",
      "2M/r_E = 1.3907049353349578e-09\n",
      "v_s square = 1.6666631322508726e-10\n",
      "2M/r_s = 3.3333262645017493e-10\n"
     ]
    }
   ],
   "source": [
    "import astropy.constants as const\n",
    "import astropy.units as u\n",
    "import numpy as np\n",
    "v_E=const.R_earth*np.pi/43200/(1*u.s)/const.c\n",
    "v_E2=v_E**2\n",
    "G=const.G\n",
    "def kg2m(M_kg):\n",
    "    return G/const.c**2*M_kg\n",
    "def sec2m(t_sec):\n",
    "    return t_sec*const.c\n",
    "M=kg2m(const.M_earth)\n",
    "print(\"M =\",M)\n",
    "print(\"v_E square =\",v_E2)\n",
    "r_E=const.R_earth\n",
    "print(\"2M/r_E =\",2*M/r_E)\n",
    "T=43200*u.s\n",
    "v_s3=2*np.pi*G*const.M_earth/T\n",
    "v_s=(v_s3**(1/3)/const.c)\n",
    "v_s2=v_s**2\n",
    "print(\"v_s square =\",v_s2)\n",
    "r_s=v_s*sec2m(T)/2/np.pi\n",
    "print(\"2M/r_s =\",2*M/r_s)\n"
   ]
  },
  {
   "cell_type": "markdown",
   "metadata": {},
   "source": [
    "$v_E=r_E \\frac{d\\phi}{dt}\\approx r_E \\frac{d\\phi}{dt_E}$\n",
    "$$v_E^2\\approx 2.3937208030747504e-12$$\n",
    "$$v_s^2\\approx 1.6666631322508726e-10$$\n",
    "$$2M/r_E = 1.3907049353349578e-09$$\n",
    "$$2M/r_s = 3.3333262645017493e-10$$"
   ]
  },
  {
   "cell_type": "markdown",
   "metadata": {},
   "source": [
    "$$\\begin{array}{rcl}\\frac{dt_s}{dt_E}&=&\\frac{\\left(1-\\frac{2M}{r_s}-v_s^2\\right)^{1/2}}{\\left(1-\\frac{2M}{r_E}-v_E^2\\right)^{1/2}}\n",
    "=\\left(1-\\frac{2M}{r_s}-v_s^2\\right)^{1/2}\\left(1-\\frac{2M}{r_E}-v_E^2\\right)^{-1/2}=\\left(1+\\frac{1}{2}(-\\frac{2M}{r_s}-v_s^2)\\right)\\left(1+\\frac{-1}{2}(-\\frac{2M}{r_E}-v_E^2)\\right)\\\\\n",
    "&\\approx &1-\\frac{M}{r_s}-\\frac{v_s^2}{2}+\\frac{M}{r_E}+\\frac{v_E^2}{2}\\end{array}$$\n"
   ]
  },
  {
   "cell_type": "code",
   "execution_count": 50,
   "metadata": {},
   "outputs": [
    {
     "name": "stdout",
     "output_type": "stream",
     "text": [
      "不考慮衛星及地球自轉的速度，地面一天的時間，衛星時間快了約 4.567848374382262e-05 s\n"
     ]
    }
   ],
   "source": [
    "print(\"不考慮衛星及地球自轉的速度，地面一天的時間，衛星時間快了約\",(-M/r_s+M/r_E)*(86400*u.s))"
   ]
  },
  {
   "cell_type": "code",
   "execution_count": 55,
   "metadata": {},
   "outputs": [
    {
     "name": "stdout",
     "output_type": "stream",
     "text": [
      "考慮衛星及地球自轉的速度之後，地面一天的時間，衛星時間快了約 3.858190775119168e-05 s\n",
      "這一點點的時間差，衛星移動了 0.14932355319916338 m\n"
     ]
    }
   ],
   "source": [
    "print(\"考慮衛星及地球自轉的速度之後，地面一天的時間，衛星時間快了約\",(-M/r_s-v_s2/2+M/r_E+v_E2/2)*(86400*u.s))\n",
    "print(\"這一點點的時間差，衛星移動了\",(-M/r_s-v_s2/2+M/r_E+v_E2/2)*(86400*u.s)*v_s*const.c)"
   ]
  },
  {
   "cell_type": "markdown",
   "metadata": {},
   "source": [
    "3.858190775119168e-05 s 相當於 38582 奈秒"
   ]
  },
  {
   "cell_type": "code",
   "execution_count": 63,
   "metadata": {},
   "outputs": [
    {
     "name": "stdout",
     "output_type": "stream",
     "text": [
      "463.82852092270974 m / s 3870.2998867273805 m / s\n"
     ]
    }
   ],
   "source": [
    "print(v_E*const.c,v_s*const.c)"
   ]
  }
 ],
 "metadata": {
  "kernelspec": {
   "display_name": "Python 3",
   "language": "python",
   "name": "python3"
  },
  "language_info": {
   "codemirror_mode": {
    "name": "ipython",
    "version": 3
   },
   "file_extension": ".py",
   "mimetype": "text/x-python",
   "name": "python",
   "nbconvert_exporter": "python",
   "pygments_lexer": "ipython3",
   "version": "3.6.3"
  }
 },
 "nbformat": 4,
 "nbformat_minor": 2
}
