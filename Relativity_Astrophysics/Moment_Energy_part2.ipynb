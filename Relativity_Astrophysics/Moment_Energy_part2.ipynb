{
 "cells": [
  {
   "cell_type": "markdown",
   "metadata": {},
   "source": [
    "## Momentum and Energy in Newtonian Mechanics\n",
    "* Study the rest mass of assemblages of particles.\n",
    "* Use relativistic conservation laws to analyze particle collisions.\n",
    "* Extend the definition of the Momentum 4-vector to massless particles.\n",
    "* Apply Lorentz transformations to the Momentum 4-vector.\n",
    "* Work out examples of particle-particle, particle-photon and photon-photon collisions.\n",
    "* Consider particle creation and annhilation processes.\n",
    "* Describe stellar evolution in a nutshell.\n"
   ]
  },
  {
   "cell_type": "markdown",
   "metadata": {},
   "source": [
    "Individual particle rest masses don't add to give the system rest mass"
   ]
  },
  {
   "cell_type": "markdown",
   "metadata": {},
   "source": [
    "# Conservation and the Four-vector"
   ]
  },
  {
   "cell_type": "markdown",
   "metadata": {},
   "source": [
    "## Determining the Four-Vector for a Photon\n",
    "\n",
    "$$P=hf(1,\\hat{n})$$"
   ]
  },
  {
   "cell_type": "markdown",
   "metadata": {},
   "source": [
    "### Doppler and angle transformations from P of photon\n",
    "\n",
    "$$ \\begin{array}{rcl}P&=&E\\left(\\begin{array}{c}1\\\\ \\cos\\phi \\\\ \\sin\\phi\\end{array}\\right)\\end{array}$$"
   ]
  },
  {
   "cell_type": "markdown",
   "metadata": {},
   "source": [
    "\n",
    "$$\\begin{array}{rcl}\n",
    "P^\\prime&=&\\left(\\begin{array}{ccc}\\gamma & -\\gamma\\beta & 0\\\\ -\\gamma\\beta & \\gamma & 0 \\\\ 0&0&1\\end{array}\\right)P\\\\\n",
    "&=&E \\left(\\begin{array}{ccc}\\gamma & -\\gamma\\beta & 0\\\\ -\\gamma\\beta & \\gamma & 0 \\\\ 0&0&1\\end{array}\\right)\\left(\\begin{array}{c}1\\\\ \\cos\\phi \\\\ \\sin\\phi\\end{array}\\right)\\\\\n",
    "&=&E\\left(\\begin{array}{c}\n",
    "\\gamma-\\gamma\\beta\\cos\\phi\\\\\n",
    "\\gamma\\cos\\phi-\\gamma\\beta\\\\\n",
    "\\sin\\phi\n",
    "\\end{array}\\right)\\\\\n",
    "&=&E(\\gamma-\\gamma\\beta\\cos\\phi)\\left(\\begin{array}{c}\n",
    "1\\\\\n",
    "\\frac{\\gamma\\cos\\phi-\\gamma\\beta}{\\gamma-\\gamma\\beta\\cos\\phi}\\\\\n",
    "\\frac{\\sin\\phi}{\\gamma-\\gamma\\beta\\cos\\phi}\n",
    "\\end{array}\\right)\\\\\n",
    "&\\equiv& E'\\begin{pmatrix}1\\\\ \\cos\\phi' \\\\ \\sin\\phi'\\end{pmatrix}\n",
    "\\end{array}$$"
   ]
  },
  {
   "cell_type": "markdown",
   "metadata": {},
   "source": [
    "因此，\n",
    "$$\\begin{array}{rcl}\n",
    "f'&=& f\\gamma(1-\\beta\\cos\\phi)\\\\\n",
    "\\cos\\phi'&=&\\frac{\\gamma\\cos\\phi-\\gamma\\beta}{\\gamma-\\gamma\\beta\\cos\\phi}\\\\\n",
    "\\sin\\phi'&=&\\frac{\\sin\\phi}{\\gamma-\\gamma\\beta\\cos\\phi}\n",
    "\\end{array}$$"
   ]
  },
  {
   "cell_type": "markdown",
   "metadata": {
    "collapsed": true
   },
   "source": [
    "### Particle-Photon Collision"
   ]
  },
  {
   "cell_type": "markdown",
   "metadata": {},
   "source": [
    "# Particle Creation Threshold"
   ]
  }
 ],
 "metadata": {
  "kernelspec": {
   "display_name": "Python 3",
   "language": "python",
   "name": "python3"
  },
  "language_info": {
   "codemirror_mode": {
    "name": "ipython",
    "version": 3
   },
   "file_extension": ".py",
   "mimetype": "text/x-python",
   "name": "python",
   "nbconvert_exporter": "python",
   "pygments_lexer": "ipython3",
   "version": "3.6.3"
  }
 },
 "nbformat": 4,
 "nbformat_minor": 2
}
