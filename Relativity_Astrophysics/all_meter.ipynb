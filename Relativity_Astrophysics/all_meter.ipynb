{
 "cells": [
  {
   "cell_type": "code",
   "execution_count": 1,
   "metadata": {},
   "outputs": [
    {
     "name": "stdout",
     "output_type": "stream",
     "text": [
      "6.679700675470417e-11 m3 / (kg s2)\n",
      "  Name   = Gravitational constant\n",
      "  Value  = 6.67408e-11\n",
      "  Uncertainty  = 3.1e-15\n",
      "  Unit  = m3 / (kg s2)\n",
      "  Reference = CODATA 2014\n",
      "7.425915486106335e-28 m / kg\n"
     ]
    }
   ],
   "source": [
    "import astropy.constants as const\n",
    "import astropy.units as u\n",
    "r=const.R_earth\n",
    "M=const.M_earth\n",
    "a=9.80665*u.m/u.s/u.s\n",
    "G=a*r**2/M\n",
    "print(G)\n",
    "G=const.G\n",
    "print(G)\n",
    "print(G/const.c**2)"
   ]
  },
  {
   "cell_type": "markdown",
   "metadata": {},
   "source": [
    "* mass can be mesured in meters, mass of earth is 0.004435027574029947 m\n",
    "* time can be mesaured in meters, sec is equal to 299792458.0 m\n"
   ]
  },
  {
   "cell_type": "code",
   "execution_count": 2,
   "metadata": {},
   "outputs": [
    {
     "name": "stdout",
     "output_type": "stream",
     "text": [
      "地球質量為 0.004435027574029947 m\n",
      "一秒為 299792458.0 m\n"
     ]
    }
   ],
   "source": [
    "G/const.c**2\n",
    "def kg2m(M_kg):\n",
    "    return G/const.c**2*M_kg\n",
    "def sec2m(t_sec):\n",
    "    return t_sec*const.c\n",
    "# earth mass in meters\n",
    "print(\"地球質量為\",kg2m(M))\n",
    "# sec in meter\n",
    "print(\"一秒為\",sec2m(1*u.s))"
   ]
  },
  {
   "cell_type": "markdown",
   "metadata": {},
   "source": [
    "Momenergy conservation can be used to solve collision of two particles when space dimension is one.\n",
    "\n",
    "Before collision:\n",
    "$$m_1=8,v_1=15/17,m_2=12,v_2=-5/13,\\gamma_1=17/8,\\gamma_2=13/12$$\n",
    "\n",
    "$$ E_1=m_1\\gamma_1=17,P_1=m_1\\gamma_1v_1=15, E_2=m_2\\gamma_2=13, P_2=m_2\\gamma_2v_2=-5$$\n",
    "\n",
    "Total momenergy is $$(17+13,15-5)=(30,10)$$\n",
    "\n",
    "\n",
    "After collision:\n",
    "$$m_1'=8, m_2'=12, \\gamma_2'=(30-8\\gamma_1')/12$$\n",
    "\n",
    "solve equation of $v_1'$ under condition $\\gamma_1'\\le 18/8$ :\n",
    "$$8\\gamma_1'v_1'+12v_2'\\gamma_2'=10$$\n",
    "\n",
    "Note: condition $\\gamma_1'\\le 18/8$  is equivlent to $-\\sqrt{65/81}\\le v_1'\\le \\sqrt{65/81}=0.89580641647761661$"
   ]
  },
  {
   "cell_type": "code",
   "execution_count": 15,
   "metadata": {},
   "outputs": [],
   "source": [
    "import numpy as np\n",
    "def v2gamma(v):\n",
    "    return 1/np.sqrt(1-v**2)\n",
    "def gamma2v(gamma):\n",
    "    return np.sqrt(1-1/(gamma**2))\n",
    "def gamma2(gamma1):\n",
    "    return (30-8*gamma1)/12\n",
    "def fun(g1):\n",
    "    g2=gamma2(g1)\n",
    "    return -8*g1*gamma2v(g1)+12*g2*gamma2v(g2)-10\n",
    "def fun2(g1):\n",
    "    g2=gamma2(g1)\n",
    "    return 8*g1*gamma2v(g1)-12*g2*gamma2v(g2)-10\n"
   ]
  },
  {
   "cell_type": "code",
   "execution_count": 4,
   "metadata": {},
   "outputs": [
    {
     "data": {
      "text/plain": [
       "0.89580641647761661"
      ]
     },
     "execution_count": 4,
     "metadata": {},
     "output_type": "execute_result"
    }
   ],
   "source": [
    "gamma2v(9/4)"
   ]
  },
  {
   "cell_type": "code",
   "execution_count": 35,
   "metadata": {},
   "outputs": [
    {
     "data": {
      "text/plain": [
       "0.89580641647761661"
      ]
     },
     "execution_count": 35,
     "metadata": {},
     "output_type": "execute_result"
    }
   ],
   "source": [
    "np.sqrt(65/81)"
   ]
  },
  {
   "cell_type": "code",
   "execution_count": 33,
   "metadata": {},
   "outputs": [
    {
     "data": {
      "image/png": "[encoded data removed]",
      "text/plain": [
       "<matplotlib.figure.Figure at 0x1b74959fc50>"
      ]
     },
     "metadata": {},
     "output_type": "display_data"
    }
   ],
   "source": [
    "v1=np.linspace(-0.8958,0.8958,300)\n",
    "g1=[v2gamma(v) for v in v1]\n",
    "g2=[gamma2(g) for g in g1]\n",
    "p1=[8*g1[i]*v1[i]+12*g2[i]*gamma2v(g2[i]) for i in range(len(v1))]\n",
    "p2=[8*g1[i]*v1[i]-12*g2[i]*gamma2v(g2[i]) for i in range(len(v1))]\n",
    "plt.plot(v1,p1)\n",
    "plt.plot(v1,p2)\n",
    "plt.plot([-0.8958,0.8958],[10,10])\n",
    "plt.plot([-0.6,-0.6],[-30,30])\n",
    "plt.plot([15/17,15/17],[-30,30])\n",
    "plt.show()"
   ]
  }
 ],
 "metadata": {
  "kernelspec": {
   "display_name": "Python 3",
   "language": "python",
   "name": "python3"
  },
  "language_info": {
   "codemirror_mode": {
    "name": "ipython",
    "version": 3
   },
   "file_extension": ".py",
   "mimetype": "text/x-python",
   "name": "python",
   "nbconvert_exporter": "python",
   "pygments_lexer": "ipython3",
   "version": "3.6.1"
  }
 },
 "nbformat": 4,
 "nbformat_minor": 2
}
