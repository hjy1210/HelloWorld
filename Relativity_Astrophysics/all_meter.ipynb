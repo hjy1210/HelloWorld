{
 "cells": [
  {
   "cell_type": "code",
   "execution_count": 23,
   "metadata": {},
   "outputs": [
    {
     "name": "stdout",
     "output_type": "stream",
     "text": [
      "6.679700675470417e-11 m3 / (kg s2)\n",
      "  Name   = Gravitational constant\n",
      "  Value  = 6.67408e-11\n",
      "  Uncertainty  = 3.1e-15\n",
      "  Unit  = m3 / (kg s2)\n",
      "  Reference = CODATA 2014\n",
      "7.425915486106335e-28 m / kg\n"
     ]
    }
   ],
   "source": [
    "import astropy.constants as const\n",
    "import astropy.units as u\n",
    "r=const.R_earth\n",
    "M=const.M_earth\n",
    "a=9.80665*u.m/u.s/u.s\n",
    "G=a*r**2/M\n",
    "print(G)\n",
    "G=const.G\n",
    "print(G)\n",
    "print(G/const.c**2)"
   ]
  },
  {
   "cell_type": "markdown",
   "metadata": {},
   "source": [
    "* mass can be mesured in meters, mass of earth is 0.004435027574029947 m\n",
    "* time can be mesaured in meters, sec is equal to 299792458.0 m\n"
   ]
  },
  {
   "cell_type": "code",
   "execution_count": 27,
   "metadata": {},
   "outputs": [
    {
     "name": "stdout",
     "output_type": "stream",
     "text": [
      "地球質量為 0.004435027574029947 m\n",
      "一秒為 299792458.0 m\n"
     ]
    }
   ],
   "source": [
    "G/const.c**2\n",
    "def kg2m(M_kg):\n",
    "    return G/const.c**2*M_kg\n",
    "def sec2m(t_sec):\n",
    "    return t_sec*const.c\n",
    "# earth mass in meters\n",
    "print(\"地球質量為\",kg2m(M))\n",
    "# sec in meter\n",
    "print(\"一秒為\",sec2m(1*u.s))"
   ]
  }
 ],
 "metadata": {
  "kernelspec": {
   "display_name": "Python 3",
   "language": "python",
   "name": "python3"
  },
  "language_info": {
   "codemirror_mode": {
    "name": "ipython",
    "version": 3
   },
   "file_extension": ".py",
   "mimetype": "text/x-python",
   "name": "python",
   "nbconvert_exporter": "python",
   "pygments_lexer": "ipython3",
   "version": "3.6.3"
  }
 },
 "nbformat": 4,
 "nbformat_minor": 2
}
