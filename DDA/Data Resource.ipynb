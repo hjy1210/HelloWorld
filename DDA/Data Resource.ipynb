{
 "cells": [
  {
   "cell_type": "code",
   "execution_count": 4,
   "metadata": {
    "collapsed": true
   },
   "outputs": [],
   "source": [
    "from astropy.coordinates import Angle,SkyCoord,Galactic"
   ]
  },
  {
   "cell_type": "code",
   "execution_count": 5,
   "metadata": {},
   "outputs": [],
   "source": [
    "# https://exoplanetarchive.ipac.caltech.edu/index.html\n",
    "# https://exoplanetarchive.ipac.caltech.edu/cgi-bin/DisplayOverview/nph-DisplayOverview?objname=HD+114729+b&type=PLANET+HOST\n",
    "# NASA ra,dec of planet (HD 114729 b)\n",
    "a=SkyCoord('13h12m44.26s', '-31d52m24.1s')"
   ]
  },
  {
   "cell_type": "code",
   "execution_count": 11,
   "metadata": {},
   "outputs": [
    {
     "data": {
      "text/plain": [
       "(308.19523107454626, 30.78061574674026)"
      ]
     },
     "execution_count": 11,
     "metadata": {},
     "output_type": "execute_result"
    }
   ],
   "source": [
    "# NASA galactic l=308.19521, b=30.78067\n",
    "a.galactic.l.deg, a.galactic.b.deg"
   ]
  },
  {
   "cell_type": "code",
   "execution_count": 13,
   "metadata": {},
   "outputs": [
    {
     "data": {
      "text/plain": [
       "(308.1952199952715, 30.780629084716555)"
      ]
     },
     "execution_count": 13,
     "metadata": {},
     "output_type": "execute_result"
    }
   ],
   "source": [
    "# http://simbad.u-strasbg.fr/simbad/sim-id?protocol=html&Ident=HD%20114729\n",
    "# HD 114729A\n",
    "# ICRS coord. (ep=J2000) :\t13 12 44.25696 -31 52 24.0555 (Optical) [ 4.84 3.43 90 ] A 2007A&A...474..653V\n",
    "# FK5 coord. (ep=J2000 eq=2000) :\t13 12 44.257 -31 52 24.06 [ 4.84 3.43 90 ]\n",
    "# FK4 coord. (ep=B1950 eq=1950) :\t13 09 58.63 -31 36 14.4 [ 27.71 20.09 0 ]\n",
    "# Gal coord. (ep=J2000) :\t308.1952 +30.7806\n",
    "A=SkyCoord('13h12m44.25696s -31d52m24.0555s')\n",
    "A.galactic.l.deg, A.galactic.b.deg"
   ]
  }
 ],
 "metadata": {
  "kernelspec": {
   "display_name": "Python 3",
   "language": "python",
   "name": "python3"
  },
  "language_info": {
   "codemirror_mode": {
    "name": "ipython",
    "version": 3
   },
   "file_extension": ".py",
   "mimetype": "text/x-python",
   "name": "python",
   "nbconvert_exporter": "python",
   "pygments_lexer": "ipython3",
   "version": "3.6.3"
  }
 },
 "nbformat": 4,
 "nbformat_minor": 2
}
